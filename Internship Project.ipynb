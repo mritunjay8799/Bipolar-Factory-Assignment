{
 "cells": [
  {
   "cell_type": "markdown",
   "metadata": {},
   "source": [
    "# Internship Project"
   ]
  },
  {
   "cell_type": "code",
   "execution_count": 55,
   "metadata": {},
   "outputs": [],
   "source": [
    "import requests\n",
    "from bs4 import BeautifulSoup\n",
    "import urllib.request\n",
    "import random\n",
    "import pandas as pd"
   ]
  },
  {
   "cell_type": "code",
   "execution_count": 4,
   "metadata": {},
   "outputs": [],
   "source": [
    "url = \"https://www.idiva.com/astro/humour/which-bollywood-celebrity-will-be-your-enemy-based-on-your-zodiac-sign/17073370\""
   ]
  },
  {
   "cell_type": "code",
   "execution_count": 5,
   "metadata": {},
   "outputs": [
    {
     "data": {
      "text/plain": [
       "200"
      ]
     },
     "execution_count": 5,
     "metadata": {},
     "output_type": "execute_result"
    }
   ],
   "source": [
    "response = requests.get(url)\n",
    "response.status_code"
   ]
  },
  {
   "cell_type": "code",
   "execution_count": 6,
   "metadata": {},
   "outputs": [],
   "source": [
    "html = response.content"
   ]
  },
  {
   "cell_type": "code",
   "execution_count": 7,
   "metadata": {},
   "outputs": [],
   "source": [
    "soup = BeautifulSoup(html,'lxml')"
   ]
  },
  {
   "cell_type": "code",
   "execution_count": 8,
   "metadata": {},
   "outputs": [],
   "source": [
    "with open('celeb.html','wb') as file:\n",
    "    file.write(soup.prettify('utf-8'))"
   ]
  },
  {
   "cell_type": "code",
   "execution_count": 31,
   "metadata": {},
   "outputs": [
    {
     "data": {
      "text/plain": [
       "[<div class=\"description article-description\"><div><p class=\"MsoNormal\"><span>Have you ever wondered if you were famous, which celebrities would be a part of your social circle? Moreover, which celebrities you would definitely not get along with you? Well, we looked to the stars for answers on this, and here’s what we found. Behold, the Bollywood celebrity who is unlikely to be your bestie, based on your zodiac sign.</span></p>\n",
       " <h2><span>Aries: Aishwarya Rai Bachchan</span></h2>\n",
       " <p class=\"articleimg\"><img alt=\"idiva_bollywood_aishwarya\" class=\"inline-photo\" data-original=\"https://im.idiva.com/content/2017/Dec/idiva_bollywood_aishwarya.jpg\" id=\"ed-img\" title=\"idiva_bollywood_aishwarya\"/></p><div></div>\n",
       " <p>Aries hates people who are non-controversial and sweet. Aishwarya Rai’s graceful and pretty image is something Aries cannot swallow, because it seems too good to be true to them, even if it happens to be real.</p>\n",
       " <h2><span>Taurus: Kangana Ranaut</span></h2>\n",
       " <p class=\"articleimg\"><img alt=\"idiva_bollywood_kangana\" class=\"inline-photo\" data-original=\"https://im.idiva.com/content/2017/Dec/idiva_bollywood_kangana.jpg\" id=\"ed-img\" title=\"idiva_bollywood_kangana\"/></p><div></div>\n",
       " <p>Taurus people, in sharp contrast to Aries, hate drama. So they can never get along with people who try to disrupt the status quo. A fighter like Kangana Ranaut, therefore, never gets along with them.</p>\n",
       " <h2><span>Gemini: Rishi Kapoor</span></h2>\n",
       " <p class=\"articleimg\"><img alt=\"idiva_bollywood_rishi\" class=\"inline-photo\" data-original=\"https://im.idiva.com/content/2017/Dec/idiva_bollywood_rishi.jpg\" id=\"ed-img\" title=\"idiva_bollywood_rishi\"/></p><div></div>\n",
       " <p>Gemini people have an affinity for a well-chosen word or two, and don’t like making friends with people who aren’t good at communicating. Someone like Rishi Kapoor, who rarely has something pleasant to say (or tweet), really irks them.</p>\n",
       " <h2><span>Cancer: Hrithik Roshan</span></h2>\n",
       " <p class=\"articleimg\"><img alt=\"idiva_bollywood_hrithik\" class=\"inline-photo\" data-original=\"https://im.idiva.com/content/2017/Dec/idiva_bollywood_hrithik.jpg\" id=\"ed-img\" title=\"idiva_bollywood_hrithik\"/></p><div></div>\n",
       " <p>Cancer people are big on self-made celebrities, and are generally more inclined to like romantic heroes like Shah Rukh Khan. They also mistrust the mixed reputation of someone like Hrithik Roshan, and therefore steer clear of their company.</p>\n",
       " <h2><span>Leo: Mouni Roy</span></h2>\n",
       " <p class=\"articleimg\"><img alt=\"idiva_bollywood_mouni\" class=\"inline-photo\" data-original=\"https://im.idiva.com/content/2017/Dec/idiva_bollywood_mouni.jpg\" id=\"ed-img\" title=\"idiva_bollywood_mouni\"/></p><div></div>\n",
       " <p>Leos are very picky about their friends, and even their celebrity idols. They cannot get themselves to like “popular” celebrities, no matter how great they are. This is why this sign is not one to jump on the Mouni Roy love train.</p>\n",
       " <h2><span>Virgo: Deepika Padukone</span></h2>\n",
       " <p class=\"articleimg\"><img alt=\"idiva_bollywood_deepika\" class=\"inline-photo\" data-original=\"https://im.idiva.com/content/2017/Dec/idiva_bollywood_deepika.jpg\" id=\"ed-img\" title=\"idiva_bollywood_deepika\"/></p><div></div>\n",
       " <p>Virgos derive joy from being overcritical, so they love find faults in people everyone seems to love. Someone like Deepika Padukone, is their target of hate because they love telling everyone why she isn’t that great.</p>\n",
       " <h2><span>Libra: Katrina Kaif</span></h2>\n",
       " <p class=\"articleimg\"><img alt=\"idiva_bollywood_katrina\" class=\"inline-photo\" data-original=\"https://im.idiva.com/content/2017/Dec/idiva_bollywood_katrina.jpg\" id=\"ed-img\" title=\"idiva_bollywood_katrina\"/></p><div></div>\n",
       " <p>Librans might be very middle of the road themselves, but they don’t love this quality in other people. Most of them dislike people who are mild mannered or “boring.” Therefore, a calm and collected celebrity like Katrina doesn’t float their boat.</p>\n",
       " <h2><span>Scorpio: Shraddha Kapoor</span></h2>\n",
       " <p class=\"articleimg\"><img alt=\"idiva_bollywood_shraddha\" class=\"inline-photo\" data-original=\"https://im.idiva.com/content/2017/Dec/idiva_bollywood_shraddha.jpg\" id=\"ed-img\" title=\"idiva_bollywood_shraddha\"/></p><div></div>\n",
       " <p>Scorpios like surrounding themselves with people who have an opinion, and are on their team. Someone demure and diplomatic like Shraddha would get on their nerves because Scorpios find these good qualities shifty.</p>\n",
       " <h2><span>Sagittarius: Sonam Kapoor</span></h2>\n",
       " <p class=\"articleimg\"><img alt=\"idiva_bollywood_sonam\" class=\"inline-photo\" data-original=\"https://im.idiva.com/content/2017/Dec/idiva_bollywood_sonam.jpg\" id=\"ed-img\" title=\"idiva_bollywood_sonam\"/></p><div></div>\n",
       " <p>Sagittarians are snobs about their intellectual pursuits, whether they are movies, or books. So, they tend to see every popular or mainstream celebrity kid, like Sonam Kapoor, as someone to dislike. Plus, they can be judgemental about every little thing someone like Sonam might have said.</p>\n",
       " <h2><span>Capricorn: Salman Khan</span></h2>\n",
       " <p class=\"articleimg\"><img alt=\"idiva_bollywood_salman\" class=\"inline-photo\" data-original=\"https://im.idiva.com/content/2017/Dec/idiva_bollywood_salman.jpg\" id=\"ed-img\" title=\"idiva_bollywood_salman\"/></p><div></div>\n",
       " <p>Salman Khan might be a Capricorn himself, but other shrewd Capricorns steer clear of him. From disapproving of him because of his “mediocre” films, to avoiding him because of his dubious social status, they like keeping their social circle squeaky clean!</p>\n",
       " <h2><span>Aquarius: Jacqueline Fernandez</span></h2>\n",
       " <p class=\"articleimg\"><img alt=\"idiva_bollywood_jacqueline\" class=\"inline-photo\" data-original=\"https://im.idiva.com/content/2017/Dec/idiva_bollywood_jacqueline.jpg\" id=\"ed-img\" title=\"idiva_bollywood_jacqueline\"/></p><div></div>\n",
       " <p>Aquarians like spunky and quirky celebrities with a brainiac streak. Your traditional pageant-winning actress, who is always cheery, only earns the Water Bearer’s disdain. Plus, Jackie is a Leo and that is one sign Aquarians have a love-hate relationship with.</p>\n",
       " <h2><span>Pisces: Neha Dhupia</span></h2>\n",
       " <p class=\"articleimg\"><img alt=\"idiva_bollywood_neha\" class=\"inline-photo\" data-original=\"https://im.idiva.com/content/2017/Dec/idiva_bollywood_neha.jpg\" id=\"ed-img\" title=\"idiva_bollywood_neha\"/></p><div></div>\n",
       " <p>Pisceans like kind people, and prefer that over people who are always smart and sassy. So, a sharp-witted and clever-tongued person like Neha Dhupia is not their type at all. In fact, the gentle Piscean is intimidated by such people and prefers to stay away from them.</p></div></div>]"
      ]
     },
     "execution_count": 31,
     "metadata": {},
     "output_type": "execute_result"
    }
   ],
   "source": [
    "divs = soup.find_all(\"div\",{\"class\":\"description article-description\"})\n",
    "divs"
   ]
  },
  {
   "cell_type": "code",
   "execution_count": 32,
   "metadata": {},
   "outputs": [
    {
     "data": {
      "text/plain": [
       "'Aries: Aishwarya Rai Bachchan'"
      ]
     },
     "execution_count": 32,
     "metadata": {},
     "output_type": "execute_result"
    }
   ],
   "source": [
    "divs[0].find_all('span')[1].text"
   ]
  },
  {
   "cell_type": "code",
   "execution_count": 33,
   "metadata": {},
   "outputs": [
    {
     "data": {
      "text/plain": [
       "13"
      ]
     },
     "execution_count": 33,
     "metadata": {},
     "output_type": "execute_result"
    }
   ],
   "source": [
    "length = len(divs[0].find_all('span'))\n",
    "length"
   ]
  },
  {
   "cell_type": "code",
   "execution_count": 34,
   "metadata": {},
   "outputs": [
    {
     "data": {
      "text/plain": [
       "[['Aries: Aishwarya Rai Bachchan'],\n",
       " ['Taurus: Kangana Ranaut'],\n",
       " ['Gemini: Rishi Kapoor'],\n",
       " ['Cancer: Hrithik Roshan'],\n",
       " ['Leo: Mouni Roy'],\n",
       " ['Virgo: Deepika Padukone'],\n",
       " ['Libra: Katrina Kaif'],\n",
       " ['Scorpio: Shraddha Kapoor'],\n",
       " ['Sagittarius: Sonam Kapoor'],\n",
       " ['Capricorn: Salman Khan'],\n",
       " ['Aquarius: Jacqueline Fernandez'],\n",
       " ['Pisces: Neha Dhupia']]"
      ]
     },
     "execution_count": 34,
     "metadata": {},
     "output_type": "execute_result"
    }
   ],
   "source": [
    "i=1\n",
    "l_name = []\n",
    "while(i<length):\n",
    "    name = [div.find_all('span')[i].text for div in divs]\n",
    "    l_name.append(name)\n",
    "    i = i+1;\n",
    "l_name"
   ]
  },
  {
   "cell_type": "code",
   "execution_count": 35,
   "metadata": {},
   "outputs": [
    {
     "data": {
      "text/plain": [
       "'Aries: Aishwarya Rai Bachchan'"
      ]
     },
     "execution_count": 35,
     "metadata": {},
     "output_type": "execute_result"
    }
   ],
   "source": [
    "l_name[0][0]"
   ]
  },
  {
   "cell_type": "code",
   "execution_count": 52,
   "metadata": {},
   "outputs": [
    {
     "data": {
      "text/plain": [
       "'Aishwarya Rai Bachchan'"
      ]
     },
     "execution_count": 52,
     "metadata": {},
     "output_type": "execute_result"
    }
   ],
   "source": [
    "l_name[0][0].split(\":\")[1].strip()"
   ]
  },
  {
   "cell_type": "code",
   "execution_count": 58,
   "metadata": {},
   "outputs": [
    {
     "data": {
      "text/plain": [
       "['Aishwarya Rai Bachchan',\n",
       " 'Kangana Ranaut',\n",
       " 'Rishi Kapoor',\n",
       " 'Hrithik Roshan',\n",
       " 'Mouni Roy',\n",
       " 'Deepika Padukone',\n",
       " 'Katrina Kaif',\n",
       " 'Shraddha Kapoor',\n",
       " 'Sonam Kapoor',\n",
       " 'Salman Khan',\n",
       " 'Jacqueline Fernandez',\n",
       " 'Neha Dhupia']"
      ]
     },
     "execution_count": 58,
     "metadata": {},
     "output_type": "execute_result"
    }
   ],
   "source": [
    "celeb_name = [names[0].split(\":\")[1].strip() for names in l_name]\n",
    "celeb_name"
   ]
  },
  {
   "cell_type": "code",
   "execution_count": 59,
   "metadata": {},
   "outputs": [
    {
     "data": {
      "text/plain": [
       "25"
      ]
     },
     "execution_count": 59,
     "metadata": {},
     "output_type": "execute_result"
    }
   ],
   "source": [
    "leng = len(divs[0].find_all('p'))\n",
    "leng"
   ]
  },
  {
   "cell_type": "code",
   "execution_count": 60,
   "metadata": {},
   "outputs": [
    {
     "data": {
      "text/plain": [
       "[['Aries hates people who are non-controversial and sweet. Aishwarya Rai’s graceful and pretty image is something Aries cannot swallow, because it seems too good to be true to them, even if it happens to be real.'],\n",
       " ['Taurus people, in sharp contrast to Aries, hate drama. So they can never get along with people who try to disrupt the status quo. A fighter like Kangana Ranaut, therefore, never gets along with them.'],\n",
       " ['Gemini people have an affinity for a well-chosen word or two, and don’t like making friends with people who aren’t good at communicating. Someone like Rishi Kapoor, who rarely has something pleasant to say (or tweet), really irks them.'],\n",
       " ['Cancer people are big on self-made celebrities, and are generally more inclined to like romantic heroes like Shah Rukh Khan. They also mistrust the mixed reputation of someone like Hrithik Roshan, and therefore steer clear of their company.'],\n",
       " ['Leos are very picky about their friends, and even their celebrity idols. They cannot get themselves to like “popular” celebrities, no matter how great they are. This is why this sign is not one to jump on the Mouni Roy love train.'],\n",
       " ['Virgos derive joy from being overcritical, so they love find faults in people everyone seems to love. Someone like Deepika Padukone, is their target of hate because they love telling everyone why she isn’t that great.'],\n",
       " ['Librans might be very middle of the road themselves, but they don’t love this quality in other people. Most of them dislike people who are mild mannered or “boring.” Therefore, a calm and collected celebrity like Katrina doesn’t float their boat.'],\n",
       " ['Scorpios like surrounding themselves with people who have an opinion, and are on their team. Someone demure and diplomatic like Shraddha would get on their nerves because Scorpios find these good qualities shifty.'],\n",
       " ['Sagittarians are snobs about their intellectual pursuits, whether they are movies, or books. So, they tend to see every popular or mainstream celebrity kid, like Sonam Kapoor, as someone to dislike. Plus, they can be judgemental about every little thing someone like Sonam might have said.'],\n",
       " ['Salman Khan might be a Capricorn himself, but other shrewd Capricorns steer clear of him. From disapproving of him because of his “mediocre” films, to avoiding him because of his dubious social status, they like keeping their social circle squeaky clean!'],\n",
       " ['Aquarians like spunky and quirky celebrities with a brainiac streak. Your traditional pageant-winning actress, who is always cheery, only earns the Water Bearer’s disdain. Plus, Jackie is a Leo and that is one sign Aquarians have a love-hate relationship with.'],\n",
       " ['Pisceans like kind people, and prefer that over people who are always smart and sassy. So, a sharp-witted and clever-tongued person like Neha Dhupia is not their type at all. In fact, the gentle Piscean is intimidated by such people and prefers to stay away from them.']]"
      ]
     },
     "execution_count": 60,
     "metadata": {},
     "output_type": "execute_result"
    }
   ],
   "source": [
    "i=2\n",
    "trait_name = []\n",
    "while(i<leng):\n",
    "    name = [div.find_all('p')[i].text for div in divs]\n",
    "    trait_name.append(name)\n",
    "    i = i+2;\n",
    "trait_name"
   ]
  },
  {
   "cell_type": "code",
   "execution_count": 61,
   "metadata": {},
   "outputs": [
    {
     "data": {
      "text/plain": [
       "'Aries hates people who are non-controversial and sweet. Aishwarya Rai’s graceful and pretty image is something Aries cannot swallow, because it seems too good to be true to them, even if it happens to be real.'"
      ]
     },
     "execution_count": 61,
     "metadata": {},
     "output_type": "execute_result"
    }
   ],
   "source": [
    "trait_name[0][0]"
   ]
  },
  {
   "cell_type": "code",
   "execution_count": 62,
   "metadata": {},
   "outputs": [
    {
     "data": {
      "text/plain": [
       "12"
      ]
     },
     "execution_count": 62,
     "metadata": {},
     "output_type": "execute_result"
    }
   ],
   "source": [
    "l = len(trait_name)\n",
    "l"
   ]
  },
  {
   "cell_type": "code",
   "execution_count": 63,
   "metadata": {},
   "outputs": [
    {
     "data": {
      "text/plain": [
       "['Aries hates people who are non-controversial and sweet. Aishwarya Rai’s graceful and pretty image is something Aries cannot swallow, because it seems too good to be true to them, even if it happens to be real.',\n",
       " 'Taurus people, in sharp contrast to Aries, hate drama. So they can never get along with people who try to disrupt the status quo. A fighter like Kangana Ranaut, therefore, never gets along with them.',\n",
       " 'Gemini people have an affinity for a well-chosen word or two, and don’t like making friends with people who aren’t good at communicating. Someone like Rishi Kapoor, who rarely has something pleasant to say (or tweet), really irks them.',\n",
       " 'Cancer people are big on self-made celebrities, and are generally more inclined to like romantic heroes like Shah Rukh Khan. They also mistrust the mixed reputation of someone like Hrithik Roshan, and therefore steer clear of their company.',\n",
       " 'Leos are very picky about their friends, and even their celebrity idols. They cannot get themselves to like “popular” celebrities, no matter how great they are. This is why this sign is not one to jump on the Mouni Roy love train.',\n",
       " 'Virgos derive joy from being overcritical, so they love find faults in people everyone seems to love. Someone like Deepika Padukone, is their target of hate because they love telling everyone why she isn’t that great.',\n",
       " 'Librans might be very middle of the road themselves, but they don’t love this quality in other people. Most of them dislike people who are mild mannered or “boring.” Therefore, a calm and collected celebrity like Katrina doesn’t float their boat.',\n",
       " 'Scorpios like surrounding themselves with people who have an opinion, and are on their team. Someone demure and diplomatic like Shraddha would get on their nerves because Scorpios find these good qualities shifty.',\n",
       " 'Sagittarians are snobs about their intellectual pursuits, whether they are movies, or books. So, they tend to see every popular or mainstream celebrity kid, like Sonam Kapoor, as someone to dislike. Plus, they can be judgemental about every little thing someone like Sonam might have said.',\n",
       " 'Salman Khan might be a Capricorn himself, but other shrewd Capricorns steer clear of him. From disapproving of him because of his “mediocre” films, to avoiding him because of his dubious social status, they like keeping their social circle squeaky clean!',\n",
       " 'Aquarians like spunky and quirky celebrities with a brainiac streak. Your traditional pageant-winning actress, who is always cheery, only earns the Water Bearer’s disdain. Plus, Jackie is a Leo and that is one sign Aquarians have a love-hate relationship with.',\n",
       " 'Pisceans like kind people, and prefer that over people who are always smart and sassy. So, a sharp-witted and clever-tongued person like Neha Dhupia is not their type at all. In fact, the gentle Piscean is intimidated by such people and prefers to stay away from them.']"
      ]
     },
     "execution_count": 63,
     "metadata": {},
     "output_type": "execute_result"
    }
   ],
   "source": [
    "i = 0\n",
    "trait = []\n",
    "while(i<l):\n",
    "    x = trait_name[i][0]\n",
    "    trait.append(x)\n",
    "    i=i+1\n",
    "trait"
   ]
  },
  {
   "cell_type": "code",
   "execution_count": 64,
   "metadata": {},
   "outputs": [
    {
     "data": {
      "text/plain": [
       "[<img alt=\"idiva_bollywood_aishwarya\" class=\"inline-photo\" data-original=\"https://im.idiva.com/content/2017/Dec/idiva_bollywood_aishwarya.jpg\" id=\"ed-img\" title=\"idiva_bollywood_aishwarya\"/>,\n",
       " <img alt=\"idiva_bollywood_kangana\" class=\"inline-photo\" data-original=\"https://im.idiva.com/content/2017/Dec/idiva_bollywood_kangana.jpg\" id=\"ed-img\" title=\"idiva_bollywood_kangana\"/>,\n",
       " <img alt=\"idiva_bollywood_rishi\" class=\"inline-photo\" data-original=\"https://im.idiva.com/content/2017/Dec/idiva_bollywood_rishi.jpg\" id=\"ed-img\" title=\"idiva_bollywood_rishi\"/>,\n",
       " <img alt=\"idiva_bollywood_hrithik\" class=\"inline-photo\" data-original=\"https://im.idiva.com/content/2017/Dec/idiva_bollywood_hrithik.jpg\" id=\"ed-img\" title=\"idiva_bollywood_hrithik\"/>,\n",
       " <img alt=\"idiva_bollywood_mouni\" class=\"inline-photo\" data-original=\"https://im.idiva.com/content/2017/Dec/idiva_bollywood_mouni.jpg\" id=\"ed-img\" title=\"idiva_bollywood_mouni\"/>,\n",
       " <img alt=\"idiva_bollywood_deepika\" class=\"inline-photo\" data-original=\"https://im.idiva.com/content/2017/Dec/idiva_bollywood_deepika.jpg\" id=\"ed-img\" title=\"idiva_bollywood_deepika\"/>,\n",
       " <img alt=\"idiva_bollywood_katrina\" class=\"inline-photo\" data-original=\"https://im.idiva.com/content/2017/Dec/idiva_bollywood_katrina.jpg\" id=\"ed-img\" title=\"idiva_bollywood_katrina\"/>,\n",
       " <img alt=\"idiva_bollywood_shraddha\" class=\"inline-photo\" data-original=\"https://im.idiva.com/content/2017/Dec/idiva_bollywood_shraddha.jpg\" id=\"ed-img\" title=\"idiva_bollywood_shraddha\"/>,\n",
       " <img alt=\"idiva_bollywood_sonam\" class=\"inline-photo\" data-original=\"https://im.idiva.com/content/2017/Dec/idiva_bollywood_sonam.jpg\" id=\"ed-img\" title=\"idiva_bollywood_sonam\"/>,\n",
       " <img alt=\"idiva_bollywood_salman\" class=\"inline-photo\" data-original=\"https://im.idiva.com/content/2017/Dec/idiva_bollywood_salman.jpg\" id=\"ed-img\" title=\"idiva_bollywood_salman\"/>,\n",
       " <img alt=\"idiva_bollywood_jacqueline\" class=\"inline-photo\" data-original=\"https://im.idiva.com/content/2017/Dec/idiva_bollywood_jacqueline.jpg\" id=\"ed-img\" title=\"idiva_bollywood_jacqueline\"/>,\n",
       " <img alt=\"idiva_bollywood_neha\" class=\"inline-photo\" data-original=\"https://im.idiva.com/content/2017/Dec/idiva_bollywood_neha.jpg\" id=\"ed-img\" title=\"idiva_bollywood_neha\"/>]"
      ]
     },
     "execution_count": 64,
     "metadata": {},
     "output_type": "execute_result"
    }
   ],
   "source": [
    "pi = divs[0].find_all(\"img\",{\"class\":\"inline-photo\"})\n",
    "pi"
   ]
  },
  {
   "cell_type": "code",
   "execution_count": 69,
   "metadata": {},
   "outputs": [
    {
     "data": {
      "text/plain": [
       "['https://im.idiva.com/content/2017/Dec/idiva_bollywood_aishwarya.jpg',\n",
       " 'https://im.idiva.com/content/2017/Dec/idiva_bollywood_kangana.jpg',\n",
       " 'https://im.idiva.com/content/2017/Dec/idiva_bollywood_rishi.jpg',\n",
       " 'https://im.idiva.com/content/2017/Dec/idiva_bollywood_hrithik.jpg',\n",
       " 'https://im.idiva.com/content/2017/Dec/idiva_bollywood_mouni.jpg',\n",
       " 'https://im.idiva.com/content/2017/Dec/idiva_bollywood_deepika.jpg',\n",
       " 'https://im.idiva.com/content/2017/Dec/idiva_bollywood_katrina.jpg',\n",
       " 'https://im.idiva.com/content/2017/Dec/idiva_bollywood_shraddha.jpg',\n",
       " 'https://im.idiva.com/content/2017/Dec/idiva_bollywood_sonam.jpg',\n",
       " 'https://im.idiva.com/content/2017/Dec/idiva_bollywood_salman.jpg',\n",
       " 'https://im.idiva.com/content/2017/Dec/idiva_bollywood_jacqueline.jpg',\n",
       " 'https://im.idiva.com/content/2017/Dec/idiva_bollywood_neha.jpg']"
      ]
     },
     "execution_count": 69,
     "metadata": {},
     "output_type": "execute_result"
    }
   ],
   "source": [
    "links=[]\n",
    "for link in pi:\n",
    "    img = link.get('data-original')\n",
    "    links.append(img)\n",
    "links"
   ]
  },
  {
   "cell_type": "code",
   "execution_count": 85,
   "metadata": {},
   "outputs": [
    {
     "data": {
      "text/plain": [
       "[('27.jpg', <http.client.HTTPMessage at 0x2144a64dcf8>),\n",
       " ('32.jpg', <http.client.HTTPMessage at 0x2144a64df98>),\n",
       " ('25.jpg', <http.client.HTTPMessage at 0x2144a684278>),\n",
       " ('21.jpg', <http.client.HTTPMessage at 0x2144a684518>),\n",
       " ('20.jpg', <http.client.HTTPMessage at 0x2144a6847b8>),\n",
       " ('30.jpg', <http.client.HTTPMessage at 0x2144a684a58>),\n",
       " ('34.jpg', <http.client.HTTPMessage at 0x2144a684cf8>),\n",
       " ('31.jpg', <http.client.HTTPMessage at 0x2144a684f98>),\n",
       " ('24.jpg', <http.client.HTTPMessage at 0x2144a68a278>),\n",
       " ('29.jpg', <http.client.HTTPMessage at 0x2144a68a518>),\n",
       " ('22.jpg', <http.client.HTTPMessage at 0x2144a68a7b8>),\n",
       " ('34.jpg', <http.client.HTTPMessage at 0x2144a68aa58>)]"
      ]
     },
     "execution_count": 85,
     "metadata": {},
     "output_type": "execute_result"
    }
   ],
   "source": [
    "links1=[]\n",
    "for link in pi:\n",
    "    img = link.get('data-original')\n",
    "    img_name = random.randrange(20,35)\n",
    "    full_name = str(img_name) + \".jpg\"\n",
    "    links1.append(urllib.request.urlretrieve(img,full_name))\n",
    "links1"
   ]
  },
  {
   "cell_type": "code",
   "execution_count": 70,
   "metadata": {},
   "outputs": [
    {
     "data": {
      "text/html": [
       "<div>\n",
       "<style scoped>\n",
       "    .dataframe tbody tr th:only-of-type {\n",
       "        vertical-align: middle;\n",
       "    }\n",
       "\n",
       "    .dataframe tbody tr th {\n",
       "        vertical-align: top;\n",
       "    }\n",
       "\n",
       "    .dataframe thead th {\n",
       "        text-align: right;\n",
       "    }\n",
       "</style>\n",
       "<table border=\"1\" class=\"dataframe\">\n",
       "  <thead>\n",
       "    <tr style=\"text-align: right;\">\n",
       "      <th></th>\n",
       "    </tr>\n",
       "  </thead>\n",
       "  <tbody>\n",
       "  </tbody>\n",
       "</table>\n",
       "</div>"
      ],
      "text/plain": [
       "Empty DataFrame\n",
       "Columns: []\n",
       "Index: []"
      ]
     },
     "execution_count": 70,
     "metadata": {},
     "output_type": "execute_result"
    }
   ],
   "source": [
    "celeb_info = pd.DataFrame()\n",
    "celeb_info"
   ]
  },
  {
   "cell_type": "code",
   "execution_count": 71,
   "metadata": {},
   "outputs": [
    {
     "data": {
      "text/html": [
       "<div>\n",
       "<style scoped>\n",
       "    .dataframe tbody tr th:only-of-type {\n",
       "        vertical-align: middle;\n",
       "    }\n",
       "\n",
       "    .dataframe tbody tr th {\n",
       "        vertical-align: top;\n",
       "    }\n",
       "\n",
       "    .dataframe thead th {\n",
       "        text-align: right;\n",
       "    }\n",
       "</style>\n",
       "<table border=\"1\" class=\"dataframe\">\n",
       "  <thead>\n",
       "    <tr style=\"text-align: right;\">\n",
       "      <th></th>\n",
       "      <th>Celeb_images</th>\n",
       "      <th>Celeb_name</th>\n",
       "      <th>Celeb_trait</th>\n",
       "    </tr>\n",
       "  </thead>\n",
       "  <tbody>\n",
       "    <tr>\n",
       "      <th>0</th>\n",
       "      <td>https://im.idiva.com/content/2017/Dec/idiva_bollywood_aishwarya.jpg</td>\n",
       "      <td>Aishwarya Rai Bachchan</td>\n",
       "      <td>Aries hates people who are non-controversial and sweet. Aishwarya Rai’s graceful and pretty image is something Aries cannot swallow, because it seems too good to be true to them, even if it happens to be real.</td>\n",
       "    </tr>\n",
       "    <tr>\n",
       "      <th>1</th>\n",
       "      <td>https://im.idiva.com/content/2017/Dec/idiva_bollywood_kangana.jpg</td>\n",
       "      <td>Kangana Ranaut</td>\n",
       "      <td>Taurus people, in sharp contrast to Aries, hate drama. So they can never get along with people who try to disrupt the status quo. A fighter like Kangana Ranaut, therefore, never gets along with them.</td>\n",
       "    </tr>\n",
       "    <tr>\n",
       "      <th>2</th>\n",
       "      <td>https://im.idiva.com/content/2017/Dec/idiva_bollywood_rishi.jpg</td>\n",
       "      <td>Rishi Kapoor</td>\n",
       "      <td>Gemini people have an affinity for a well-chosen word or two, and don’t like making friends with people who aren’t good at communicating. Someone like Rishi Kapoor, who rarely has something pleasant to say (or tweet), really irks them.</td>\n",
       "    </tr>\n",
       "    <tr>\n",
       "      <th>3</th>\n",
       "      <td>https://im.idiva.com/content/2017/Dec/idiva_bollywood_hrithik.jpg</td>\n",
       "      <td>Hrithik Roshan</td>\n",
       "      <td>Cancer people are big on self-made celebrities, and are generally more inclined to like romantic heroes like Shah Rukh Khan. They also mistrust the mixed reputation of someone like Hrithik Roshan, and therefore steer clear of their company.</td>\n",
       "    </tr>\n",
       "    <tr>\n",
       "      <th>4</th>\n",
       "      <td>https://im.idiva.com/content/2017/Dec/idiva_bollywood_mouni.jpg</td>\n",
       "      <td>Mouni Roy</td>\n",
       "      <td>Leos are very picky about their friends, and even their celebrity idols. They cannot get themselves to like “popular” celebrities, no matter how great they are. This is why this sign is not one to jump on the Mouni Roy love train.</td>\n",
       "    </tr>\n",
       "    <tr>\n",
       "      <th>5</th>\n",
       "      <td>https://im.idiva.com/content/2017/Dec/idiva_bollywood_deepika.jpg</td>\n",
       "      <td>Deepika Padukone</td>\n",
       "      <td>Virgos derive joy from being overcritical, so they love find faults in people everyone seems to love. Someone like Deepika Padukone, is their target of hate because they love telling everyone why she isn’t that great.</td>\n",
       "    </tr>\n",
       "    <tr>\n",
       "      <th>6</th>\n",
       "      <td>https://im.idiva.com/content/2017/Dec/idiva_bollywood_katrina.jpg</td>\n",
       "      <td>Katrina Kaif</td>\n",
       "      <td>Librans might be very middle of the road themselves, but they don’t love this quality in other people. Most of them dislike people who are mild mannered or “boring.” Therefore, a calm and collected celebrity like Katrina doesn’t float their boat.</td>\n",
       "    </tr>\n",
       "    <tr>\n",
       "      <th>7</th>\n",
       "      <td>https://im.idiva.com/content/2017/Dec/idiva_bollywood_shraddha.jpg</td>\n",
       "      <td>Shraddha Kapoor</td>\n",
       "      <td>Scorpios like surrounding themselves with people who have an opinion, and are on their team. Someone demure and diplomatic like Shraddha would get on their nerves because Scorpios find these good qualities shifty.</td>\n",
       "    </tr>\n",
       "    <tr>\n",
       "      <th>8</th>\n",
       "      <td>https://im.idiva.com/content/2017/Dec/idiva_bollywood_sonam.jpg</td>\n",
       "      <td>Sonam Kapoor</td>\n",
       "      <td>Sagittarians are snobs about their intellectual pursuits, whether they are movies, or books. So, they tend to see every popular or mainstream celebrity kid, like Sonam Kapoor, as someone to dislike. Plus, they can be judgemental about every little thing someone like Sonam might have said.</td>\n",
       "    </tr>\n",
       "    <tr>\n",
       "      <th>9</th>\n",
       "      <td>https://im.idiva.com/content/2017/Dec/idiva_bollywood_salman.jpg</td>\n",
       "      <td>Salman Khan</td>\n",
       "      <td>Salman Khan might be a Capricorn himself, but other shrewd Capricorns steer clear of him. From disapproving of him because of his “mediocre” films, to avoiding him because of his dubious social status, they like keeping their social circle squeaky clean!</td>\n",
       "    </tr>\n",
       "    <tr>\n",
       "      <th>10</th>\n",
       "      <td>https://im.idiva.com/content/2017/Dec/idiva_bollywood_jacqueline.jpg</td>\n",
       "      <td>Jacqueline Fernandez</td>\n",
       "      <td>Aquarians like spunky and quirky celebrities with a brainiac streak. Your traditional pageant-winning actress, who is always cheery, only earns the Water Bearer’s disdain. Plus, Jackie is a Leo and that is one sign Aquarians have a love-hate relationship with.</td>\n",
       "    </tr>\n",
       "    <tr>\n",
       "      <th>11</th>\n",
       "      <td>https://im.idiva.com/content/2017/Dec/idiva_bollywood_neha.jpg</td>\n",
       "      <td>Neha Dhupia</td>\n",
       "      <td>Pisceans like kind people, and prefer that over people who are always smart and sassy. So, a sharp-witted and clever-tongued person like Neha Dhupia is not their type at all. In fact, the gentle Piscean is intimidated by such people and prefers to stay away from them.</td>\n",
       "    </tr>\n",
       "  </tbody>\n",
       "</table>\n",
       "</div>"
      ],
      "text/plain": [
       "                                                            Celeb_images  \\\n",
       "0    https://im.idiva.com/content/2017/Dec/idiva_bollywood_aishwarya.jpg   \n",
       "1      https://im.idiva.com/content/2017/Dec/idiva_bollywood_kangana.jpg   \n",
       "2        https://im.idiva.com/content/2017/Dec/idiva_bollywood_rishi.jpg   \n",
       "3      https://im.idiva.com/content/2017/Dec/idiva_bollywood_hrithik.jpg   \n",
       "4        https://im.idiva.com/content/2017/Dec/idiva_bollywood_mouni.jpg   \n",
       "5      https://im.idiva.com/content/2017/Dec/idiva_bollywood_deepika.jpg   \n",
       "6      https://im.idiva.com/content/2017/Dec/idiva_bollywood_katrina.jpg   \n",
       "7     https://im.idiva.com/content/2017/Dec/idiva_bollywood_shraddha.jpg   \n",
       "8        https://im.idiva.com/content/2017/Dec/idiva_bollywood_sonam.jpg   \n",
       "9       https://im.idiva.com/content/2017/Dec/idiva_bollywood_salman.jpg   \n",
       "10  https://im.idiva.com/content/2017/Dec/idiva_bollywood_jacqueline.jpg   \n",
       "11        https://im.idiva.com/content/2017/Dec/idiva_bollywood_neha.jpg   \n",
       "\n",
       "                Celeb_name  \\\n",
       "0   Aishwarya Rai Bachchan   \n",
       "1           Kangana Ranaut   \n",
       "2             Rishi Kapoor   \n",
       "3           Hrithik Roshan   \n",
       "4                Mouni Roy   \n",
       "5         Deepika Padukone   \n",
       "6             Katrina Kaif   \n",
       "7          Shraddha Kapoor   \n",
       "8             Sonam Kapoor   \n",
       "9              Salman Khan   \n",
       "10    Jacqueline Fernandez   \n",
       "11             Neha Dhupia   \n",
       "\n",
       "                                                                                                                                                                                                                                                                                          Celeb_trait  \n",
       "0                                                                                   Aries hates people who are non-controversial and sweet. Aishwarya Rai’s graceful and pretty image is something Aries cannot swallow, because it seems too good to be true to them, even if it happens to be real.  \n",
       "1                                                                                             Taurus people, in sharp contrast to Aries, hate drama. So they can never get along with people who try to disrupt the status quo. A fighter like Kangana Ranaut, therefore, never gets along with them.  \n",
       "2                                                         Gemini people have an affinity for a well-chosen word or two, and don’t like making friends with people who aren’t good at communicating. Someone like Rishi Kapoor, who rarely has something pleasant to say (or tweet), really irks them.  \n",
       "3                                                    Cancer people are big on self-made celebrities, and are generally more inclined to like romantic heroes like Shah Rukh Khan. They also mistrust the mixed reputation of someone like Hrithik Roshan, and therefore steer clear of their company.  \n",
       "4                                                              Leos are very picky about their friends, and even their celebrity idols. They cannot get themselves to like “popular” celebrities, no matter how great they are. This is why this sign is not one to jump on the Mouni Roy love train.  \n",
       "5                                                                           Virgos derive joy from being overcritical, so they love find faults in people everyone seems to love. Someone like Deepika Padukone, is their target of hate because they love telling everyone why she isn’t that great.  \n",
       "6                                              Librans might be very middle of the road themselves, but they don’t love this quality in other people. Most of them dislike people who are mild mannered or “boring.” Therefore, a calm and collected celebrity like Katrina doesn’t float their boat.  \n",
       "7                                                                               Scorpios like surrounding themselves with people who have an opinion, and are on their team. Someone demure and diplomatic like Shraddha would get on their nerves because Scorpios find these good qualities shifty.  \n",
       "8   Sagittarians are snobs about their intellectual pursuits, whether they are movies, or books. So, they tend to see every popular or mainstream celebrity kid, like Sonam Kapoor, as someone to dislike. Plus, they can be judgemental about every little thing someone like Sonam might have said.  \n",
       "9                                      Salman Khan might be a Capricorn himself, but other shrewd Capricorns steer clear of him. From disapproving of him because of his “mediocre” films, to avoiding him because of his dubious social status, they like keeping their social circle squeaky clean!  \n",
       "10                               Aquarians like spunky and quirky celebrities with a brainiac streak. Your traditional pageant-winning actress, who is always cheery, only earns the Water Bearer’s disdain. Plus, Jackie is a Leo and that is one sign Aquarians have a love-hate relationship with.  \n",
       "11                       Pisceans like kind people, and prefer that over people who are always smart and sassy. So, a sharp-witted and clever-tongued person like Neha Dhupia is not their type at all. In fact, the gentle Piscean is intimidated by such people and prefers to stay away from them.  "
      ]
     },
     "execution_count": 71,
     "metadata": {},
     "output_type": "execute_result"
    }
   ],
   "source": [
    "celeb_info[\"Celeb_images\"] = links\n",
    "celeb_info[\"Celeb_name\"] = celeb_name\n",
    "celeb_info[\"Celeb_trait\"] = trait\n",
    "\n",
    "celeb_info"
   ]
  },
  {
   "cell_type": "code",
   "execution_count": 72,
   "metadata": {},
   "outputs": [
    {
     "data": {
      "text/html": [
       "<div>\n",
       "<style scoped>\n",
       "    .dataframe tbody tr th:only-of-type {\n",
       "        vertical-align: middle;\n",
       "    }\n",
       "\n",
       "    .dataframe tbody tr th {\n",
       "        vertical-align: top;\n",
       "    }\n",
       "\n",
       "    .dataframe thead th {\n",
       "        text-align: right;\n",
       "    }\n",
       "</style>\n",
       "<table border=\"1\" class=\"dataframe\">\n",
       "  <thead>\n",
       "    <tr style=\"text-align: right;\">\n",
       "      <th></th>\n",
       "      <th>Celeb_images</th>\n",
       "      <th>Celeb_name</th>\n",
       "      <th>Celeb_trait</th>\n",
       "    </tr>\n",
       "  </thead>\n",
       "  <tbody>\n",
       "    <tr>\n",
       "      <th>0</th>\n",
       "      <td>https://im.idiva.com/content/2017/Dec/idiva_bollywood_aishwarya.jpg</td>\n",
       "      <td>Aishwarya Rai Bachchan</td>\n",
       "      <td>Aries hates people who are non-controversial and sweet. Aishwarya Rai’s graceful and pretty image is something Aries cannot swallow, because it seems too good to be true to them, even if it happens to be real.</td>\n",
       "    </tr>\n",
       "    <tr>\n",
       "      <th>1</th>\n",
       "      <td>https://im.idiva.com/content/2017/Dec/idiva_bollywood_kangana.jpg</td>\n",
       "      <td>Kangana Ranaut</td>\n",
       "      <td>Taurus people, in sharp contrast to Aries, hate drama. So they can never get along with people who try to disrupt the status quo. A fighter like Kangana Ranaut, therefore, never gets along with them.</td>\n",
       "    </tr>\n",
       "    <tr>\n",
       "      <th>2</th>\n",
       "      <td>https://im.idiva.com/content/2017/Dec/idiva_bollywood_rishi.jpg</td>\n",
       "      <td>Rishi Kapoor</td>\n",
       "      <td>Gemini people have an affinity for a well-chosen word or two, and don’t like making friends with people who aren’t good at communicating. Someone like Rishi Kapoor, who rarely has something pleasant to say (or tweet), really irks them.</td>\n",
       "    </tr>\n",
       "    <tr>\n",
       "      <th>3</th>\n",
       "      <td>https://im.idiva.com/content/2017/Dec/idiva_bollywood_hrithik.jpg</td>\n",
       "      <td>Hrithik Roshan</td>\n",
       "      <td>Cancer people are big on self-made celebrities, and are generally more inclined to like romantic heroes like Shah Rukh Khan. They also mistrust the mixed reputation of someone like Hrithik Roshan, and therefore steer clear of their company.</td>\n",
       "    </tr>\n",
       "    <tr>\n",
       "      <th>4</th>\n",
       "      <td>https://im.idiva.com/content/2017/Dec/idiva_bollywood_mouni.jpg</td>\n",
       "      <td>Mouni Roy</td>\n",
       "      <td>Leos are very picky about their friends, and even their celebrity idols. They cannot get themselves to like “popular” celebrities, no matter how great they are. This is why this sign is not one to jump on the Mouni Roy love train.</td>\n",
       "    </tr>\n",
       "    <tr>\n",
       "      <th>5</th>\n",
       "      <td>https://im.idiva.com/content/2017/Dec/idiva_bollywood_deepika.jpg</td>\n",
       "      <td>Deepika Padukone</td>\n",
       "      <td>Virgos derive joy from being overcritical, so they love find faults in people everyone seems to love. Someone like Deepika Padukone, is their target of hate because they love telling everyone why she isn’t that great.</td>\n",
       "    </tr>\n",
       "    <tr>\n",
       "      <th>6</th>\n",
       "      <td>https://im.idiva.com/content/2017/Dec/idiva_bollywood_katrina.jpg</td>\n",
       "      <td>Katrina Kaif</td>\n",
       "      <td>Librans might be very middle of the road themselves, but they don’t love this quality in other people. Most of them dislike people who are mild mannered or “boring.” Therefore, a calm and collected celebrity like Katrina doesn’t float their boat.</td>\n",
       "    </tr>\n",
       "    <tr>\n",
       "      <th>7</th>\n",
       "      <td>https://im.idiva.com/content/2017/Dec/idiva_bollywood_shraddha.jpg</td>\n",
       "      <td>Shraddha Kapoor</td>\n",
       "      <td>Scorpios like surrounding themselves with people who have an opinion, and are on their team. Someone demure and diplomatic like Shraddha would get on their nerves because Scorpios find these good qualities shifty.</td>\n",
       "    </tr>\n",
       "    <tr>\n",
       "      <th>8</th>\n",
       "      <td>https://im.idiva.com/content/2017/Dec/idiva_bollywood_sonam.jpg</td>\n",
       "      <td>Sonam Kapoor</td>\n",
       "      <td>Sagittarians are snobs about their intellectual pursuits, whether they are movies, or books. So, they tend to see every popular or mainstream celebrity kid, like Sonam Kapoor, as someone to dislike. Plus, they can be judgemental about every little thing someone like Sonam might have said.</td>\n",
       "    </tr>\n",
       "    <tr>\n",
       "      <th>9</th>\n",
       "      <td>https://im.idiva.com/content/2017/Dec/idiva_bollywood_salman.jpg</td>\n",
       "      <td>Salman Khan</td>\n",
       "      <td>Salman Khan might be a Capricorn himself, but other shrewd Capricorns steer clear of him. From disapproving of him because of his “mediocre” films, to avoiding him because of his dubious social status, they like keeping their social circle squeaky clean!</td>\n",
       "    </tr>\n",
       "    <tr>\n",
       "      <th>10</th>\n",
       "      <td>https://im.idiva.com/content/2017/Dec/idiva_bollywood_jacqueline.jpg</td>\n",
       "      <td>Jacqueline Fernandez</td>\n",
       "      <td>Aquarians like spunky and quirky celebrities with a brainiac streak. Your traditional pageant-winning actress, who is always cheery, only earns the Water Bearer’s disdain. Plus, Jackie is a Leo and that is one sign Aquarians have a love-hate relationship with.</td>\n",
       "    </tr>\n",
       "    <tr>\n",
       "      <th>11</th>\n",
       "      <td>https://im.idiva.com/content/2017/Dec/idiva_bollywood_neha.jpg</td>\n",
       "      <td>Neha Dhupia</td>\n",
       "      <td>Pisceans like kind people, and prefer that over people who are always smart and sassy. So, a sharp-witted and clever-tongued person like Neha Dhupia is not their type at all. In fact, the gentle Piscean is intimidated by such people and prefers to stay away from them.</td>\n",
       "    </tr>\n",
       "  </tbody>\n",
       "</table>\n",
       "</div>"
      ],
      "text/plain": [
       "                                                            Celeb_images  \\\n",
       "0    https://im.idiva.com/content/2017/Dec/idiva_bollywood_aishwarya.jpg   \n",
       "1      https://im.idiva.com/content/2017/Dec/idiva_bollywood_kangana.jpg   \n",
       "2        https://im.idiva.com/content/2017/Dec/idiva_bollywood_rishi.jpg   \n",
       "3      https://im.idiva.com/content/2017/Dec/idiva_bollywood_hrithik.jpg   \n",
       "4        https://im.idiva.com/content/2017/Dec/idiva_bollywood_mouni.jpg   \n",
       "5      https://im.idiva.com/content/2017/Dec/idiva_bollywood_deepika.jpg   \n",
       "6      https://im.idiva.com/content/2017/Dec/idiva_bollywood_katrina.jpg   \n",
       "7     https://im.idiva.com/content/2017/Dec/idiva_bollywood_shraddha.jpg   \n",
       "8        https://im.idiva.com/content/2017/Dec/idiva_bollywood_sonam.jpg   \n",
       "9       https://im.idiva.com/content/2017/Dec/idiva_bollywood_salman.jpg   \n",
       "10  https://im.idiva.com/content/2017/Dec/idiva_bollywood_jacqueline.jpg   \n",
       "11        https://im.idiva.com/content/2017/Dec/idiva_bollywood_neha.jpg   \n",
       "\n",
       "                Celeb_name  \\\n",
       "0   Aishwarya Rai Bachchan   \n",
       "1           Kangana Ranaut   \n",
       "2             Rishi Kapoor   \n",
       "3           Hrithik Roshan   \n",
       "4                Mouni Roy   \n",
       "5         Deepika Padukone   \n",
       "6             Katrina Kaif   \n",
       "7          Shraddha Kapoor   \n",
       "8             Sonam Kapoor   \n",
       "9              Salman Khan   \n",
       "10    Jacqueline Fernandez   \n",
       "11             Neha Dhupia   \n",
       "\n",
       "                                                                                                                                                                                                                                                                                          Celeb_trait  \n",
       "0                                                                                   Aries hates people who are non-controversial and sweet. Aishwarya Rai’s graceful and pretty image is something Aries cannot swallow, because it seems too good to be true to them, even if it happens to be real.  \n",
       "1                                                                                             Taurus people, in sharp contrast to Aries, hate drama. So they can never get along with people who try to disrupt the status quo. A fighter like Kangana Ranaut, therefore, never gets along with them.  \n",
       "2                                                         Gemini people have an affinity for a well-chosen word or two, and don’t like making friends with people who aren’t good at communicating. Someone like Rishi Kapoor, who rarely has something pleasant to say (or tweet), really irks them.  \n",
       "3                                                    Cancer people are big on self-made celebrities, and are generally more inclined to like romantic heroes like Shah Rukh Khan. They also mistrust the mixed reputation of someone like Hrithik Roshan, and therefore steer clear of their company.  \n",
       "4                                                              Leos are very picky about their friends, and even their celebrity idols. They cannot get themselves to like “popular” celebrities, no matter how great they are. This is why this sign is not one to jump on the Mouni Roy love train.  \n",
       "5                                                                           Virgos derive joy from being overcritical, so they love find faults in people everyone seems to love. Someone like Deepika Padukone, is their target of hate because they love telling everyone why she isn’t that great.  \n",
       "6                                              Librans might be very middle of the road themselves, but they don’t love this quality in other people. Most of them dislike people who are mild mannered or “boring.” Therefore, a calm and collected celebrity like Katrina doesn’t float their boat.  \n",
       "7                                                                               Scorpios like surrounding themselves with people who have an opinion, and are on their team. Someone demure and diplomatic like Shraddha would get on their nerves because Scorpios find these good qualities shifty.  \n",
       "8   Sagittarians are snobs about their intellectual pursuits, whether they are movies, or books. So, they tend to see every popular or mainstream celebrity kid, like Sonam Kapoor, as someone to dislike. Plus, they can be judgemental about every little thing someone like Sonam might have said.  \n",
       "9                                      Salman Khan might be a Capricorn himself, but other shrewd Capricorns steer clear of him. From disapproving of him because of his “mediocre” films, to avoiding him because of his dubious social status, they like keeping their social circle squeaky clean!  \n",
       "10                               Aquarians like spunky and quirky celebrities with a brainiac streak. Your traditional pageant-winning actress, who is always cheery, only earns the Water Bearer’s disdain. Plus, Jackie is a Leo and that is one sign Aquarians have a love-hate relationship with.  \n",
       "11                       Pisceans like kind people, and prefer that over people who are always smart and sassy. So, a sharp-witted and clever-tongued person like Neha Dhupia is not their type at all. In fact, the gentle Piscean is intimidated by such people and prefers to stay away from them.  "
      ]
     },
     "execution_count": 72,
     "metadata": {},
     "output_type": "execute_result"
    }
   ],
   "source": [
    "pd.set_option('display.max_colwidth',None)\n",
    "celeb_info"
   ]
  },
  {
   "cell_type": "code",
   "execution_count": 84,
   "metadata": {},
   "outputs": [],
   "source": [
    "# Write data to excel file\n",
    "celeb_info.to_excel(\"Project.xlsx\", index = False, header = True)"
   ]
  },
  {
   "cell_type": "code",
   "execution_count": null,
   "metadata": {},
   "outputs": [],
   "source": []
  }
 ],
 "metadata": {
  "kernelspec": {
   "display_name": "Python 3",
   "language": "python",
   "name": "python3"
  },
  "language_info": {
   "codemirror_mode": {
    "name": "ipython",
    "version": 3
   },
   "file_extension": ".py",
   "mimetype": "text/x-python",
   "name": "python",
   "nbconvert_exporter": "python",
   "pygments_lexer": "ipython3",
   "version": "3.7.3"
  }
 },
 "nbformat": 4,
 "nbformat_minor": 4
}
